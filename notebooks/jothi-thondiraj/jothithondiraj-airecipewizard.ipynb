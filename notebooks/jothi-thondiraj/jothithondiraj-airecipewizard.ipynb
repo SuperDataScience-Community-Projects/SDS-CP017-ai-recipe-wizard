{
 "cells": [
  {
   "cell_type": "code",
   "execution_count": 1,
   "metadata": {},
   "outputs": [
    {
     "name": "stdout",
     "output_type": "stream",
     "text": [
      "Starting the AI-recipe-wizard project\n"
     ]
    }
   ],
   "source": [
    "print(\"Starting the AI-recipe-wizard project\")"
   ]
  },
  {
   "cell_type": "code",
   "execution_count": 1,
   "metadata": {},
   "outputs": [
    {
     "name": "stderr",
     "output_type": "stream",
     "text": [
      "/opt/anaconda3/envs/Azure_end_to_end_project/lib/python3.12/site-packages/tqdm/auto.py:21: TqdmWarning: IProgress not found. Please update jupyter and ipywidgets. See https://ipywidgets.readthedocs.io/en/stable/user_install.html\n",
      "  from .autonotebook import tqdm as notebook_tqdm\n"
     ]
    }
   ],
   "source": [
    "from transformers import AutoTokenizer, AutoModelForCausalLM\n",
    "import transformers\n",
    "import torch"
   ]
  },
  {
   "cell_type": "code",
   "execution_count": 2,
   "metadata": {},
   "outputs": [
    {
     "name": "stderr",
     "output_type": "stream",
     "text": [
      "/opt/anaconda3/envs/Azure_end_to_end_project/lib/python3.12/site-packages/transformers/tokenization_utils_base.py:1601: FutureWarning: `clean_up_tokenization_spaces` was not set. It will be set to `True` by default. This behavior will be depracted in transformers v4.45, and will be then set to `False` by default. For more details check this issue: https://github.com/huggingface/transformers/issues/31884\n",
      "  warnings.warn(\n"
     ]
    }
   ],
   "source": [
    "model = \"tiiuae/falcon-7b\"\n",
    "tokenizer = AutoTokenizer.from_pretrained(model)"
   ]
  },
  {
   "cell_type": "code",
   "execution_count": 3,
   "metadata": {},
   "outputs": [
    {
     "name": "stderr",
     "output_type": "stream",
     "text": [
      "A new version of the following files was downloaded from https://huggingface.co/tiiuae/falcon-7b:\n",
      "- configuration_falcon.py\n",
      ". Make sure to double-check they do not contain any added malicious code. To avoid downloading new versions of the code file, you can pin a revision.\n",
      "\n",
      "WARNING: You are currently loading Falcon using legacy code contained in the model repository. Falcon has now been fully ported into the Hugging Face transformers library. For the most up-to-date and high-performance version of the Falcon model code, please update to the latest version of transformers and then load the model without the trust_remote_code=True argument.\n",
      "\n",
      "A new version of the following files was downloaded from https://huggingface.co/tiiuae/falcon-7b:\n",
      "- modeling_falcon.py\n",
      ". Make sure to double-check they do not contain any added malicious code. To avoid downloading new versions of the code file, you can pin a revision.\n",
      "Downloading shards: 100%|██████████| 2/2 [05:56<00:00, 178.20s/it]\n",
      "Loading checkpoint shards: 100%|██████████| 2/2 [00:10<00:00,  5.30s/it]\n",
      "Some parameters are on the meta device because they were offloaded to the disk.\n"
     ]
    }
   ],
   "source": [
    "pipeline = transformers.pipeline(\n",
    "    \"text-generation\",\n",
    "    model=model,\n",
    "    tokenizer=tokenizer,\n",
    "    torch_dtype=torch.bfloat16,\n",
    "    trust_remote_code=True,\n",
    "    device_map=\"auto\",\n",
    ")"
   ]
  },
  {
   "cell_type": "code",
   "execution_count": 12,
   "metadata": {},
   "outputs": [
    {
     "name": "stderr",
     "output_type": "stream",
     "text": [
      "Setting `pad_token_id` to `eos_token_id`:11 for open-end generation.\n"
     ]
    }
   ],
   "source": [
    "sequences = pipeline(\n",
    "   \"Write a recipe with the following ingredients: chicken, tomatoes, onions, indian spices and rice. explain the recipe with a suitable title\",\n",
    "    max_length=200,\n",
    ")\n",
    "# \"Generate a recipe with the following ingredients: chicken, tomatoes, onions, indian spices and rice. explain the recipe with a suitable title\""
   ]
  },
  {
   "cell_type": "code",
   "execution_count": 1,
   "metadata": {},
   "outputs": [
    {
     "ename": "NameError",
     "evalue": "name 'sequences' is not defined",
     "output_type": "error",
     "traceback": [
      "\u001b[0;31m---------------------------------------------------------------------------\u001b[0m",
      "\u001b[0;31mNameError\u001b[0m                                 Traceback (most recent call last)",
      "Cell \u001b[0;32mIn[1], line 1\u001b[0m\n\u001b[0;32m----> 1\u001b[0m \u001b[43msequences\u001b[49m\n",
      "\u001b[0;31mNameError\u001b[0m: name 'sequences' is not defined"
     ]
    }
   ],
   "source": [
    "sequences"
   ]
  },
  {
   "cell_type": "code",
   "execution_count": 18,
   "metadata": {},
   "outputs": [
    {
     "name": "stdout",
     "output_type": "stream",
     "text": [
      "Result: Write a recipe with the following ingredients: chicken, tomatoes, onions, indian spices and rice. explain the recipe with a suitable title.\n",
      "The recipe is as follows:\n",
      "Ingredients:\n",
      "- 1 kg chicken\n",
      "- 2 onions\n",
      "- 2 tomatoes\n",
      "- 1 cup rice\n",
      "- 1/2 cup oil\n",
      "- 1/2 cup water\n",
      "- 1/2 cup yogurt\n",
      "- 1/2 cup milk\n",
      "- 1/2 cup cream\n",
      "- 1/2 cup butter\n",
      "- 1/2 cup raisins\n",
      "- 1/2 cup cashew nuts\n",
      "- 1/2 cup almonds\n",
      "- 1/2 cup pistachios\n",
      "- 1/2 cup green peas\n",
      "- 1/2 cup carrots\n",
      "- 1/2 cup potatoes\n",
      "- 1/2 cup green beans\n",
      "- 1/2 cup cauliflower\n",
      "- 1/2 cup spinach\n",
      "- 1/2 cup\n",
      "ct:1\n"
     ]
    }
   ],
   "source": [
    "ct = 0\n",
    "for seq in sequences:\n",
    "    ct += 1\n",
    "    print(f\"Result: {seq['generated_text']}\")\n",
    "    print(f'ct:{ct}')\n",
    "\n",
    "#Result: Generate a recipe with the following ingredients: chicken, tomatoes, onions, indian spices and rice. explain the recipe with a suitable title.\n",
    "#The recipe is a very popular dish in India. It is a very tasty dish. It is a very easy dish to make. It is a very healthy dish. It is a very delicious dish. It is a very popular dish in India. It is a very tasty dish. It is a very easy dish to make. It is a very healthy dish. It is a very delicious dish. It is a very popular dish in India. It is a very tasty dish. It is a very easy dish to make. It is a very healthy dish. It is a very delicious dish. It is a very popular dish in India. It is a very tasty dish. It is a very easy dish to make. It is a very healthy dish. It is a very delicious dish. It is a very popular dish in India. It is a very tasty dish\n",
    "#ct:1\n"
   ]
  },
  {
   "cell_type": "code",
   "execution_count": 20,
   "metadata": {},
   "outputs": [
    {
     "name": "stderr",
     "output_type": "stream",
     "text": [
      "Setting `pad_token_id` to `eos_token_id`:11 for open-end generation.\n"
     ]
    }
   ],
   "source": [
    "sequences = pipeline(\n",
    "   \"Write a recipe with the following ingredients: chicken, tomatoes, onions, indian spices and rice.\",\n",
    "    max_length=400,\n",
    ")"
   ]
  },
  {
   "cell_type": "code",
   "execution_count": null,
   "metadata": {},
   "outputs": [],
   "source": [
    "# Result: Write a recipe with the following ingredients: chicken, tomatoes, onions, indian spices and rice. explain the recipe with a suitable title.\n",
    "# The recipe is as follows:\n",
    "# Ingredients:\n",
    "# - 1 kg chicken\n",
    "# - 2 onions\n",
    "# - 2 tomatoes\n",
    "# - 1 cup rice\n",
    "# - 1/2 cup oil\n",
    "# - 1/2 cup water\n",
    "# - 1/2 cup yogurt\n",
    "# - 1/2 cup milk\n",
    "# - 1/2 cup cream\n",
    "# - 1/2 cup butter\n",
    "# - 1/2 cup raisins\n",
    "# - 1/2 cup cashew nuts\n",
    "# - 1/2 cup almonds\n",
    "# - 1/2 cup pistachios\n",
    "# - 1/2 cup green peas\n",
    "# - 1/2 cup carrots\n",
    "# - 1/2 cup potatoes\n",
    "# - 1/2 cup green beans\n",
    "# - 1/2 cup cauliflower\n",
    "# - 1/2 cup spinach\n",
    "# - 1/2 cup"
   ]
  },
  {
   "cell_type": "code",
   "execution_count": null,
   "metadata": {},
   "outputs": [],
   "source": []
  }
 ],
 "metadata": {
  "kernelspec": {
   "display_name": "Azure_end_to_end_project",
   "language": "python",
   "name": "python3"
  },
  "language_info": {
   "codemirror_mode": {
    "name": "ipython",
    "version": 3
   },
   "file_extension": ".py",
   "mimetype": "text/x-python",
   "name": "python",
   "nbconvert_exporter": "python",
   "pygments_lexer": "ipython3",
   "version": "3.12.2"
  }
 },
 "nbformat": 4,
 "nbformat_minor": 2
}
